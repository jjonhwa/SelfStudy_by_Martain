{
 "cells": [
  {
   "cell_type": "markdown",
   "metadata": {},
   "source": [
    "## 보낸이의 이름으로부터 필요없는 메일 삭제하기"
   ]
  },
  {
   "cell_type": "markdown",
   "metadata": {},
   "source": [
    "### 로그인 및 메일 삭제 함수"
   ]
  },
  {
   "cell_type": "code",
   "execution_count": 172,
   "metadata": {},
   "outputs": [],
   "source": [
    "def Login_Naver(id, passward) :\n",
    "    elem_login = driver.find_element_by_id('id')\n",
    "    elem_login.clear()\n",
    "    elem_login.send_keys(id)\n",
    "\n",
    "    elem_login = driver.find_element_by_id('pw')\n",
    "    elem_login.clear()\n",
    "    elem_login.send_keys(passward)\n",
    "\n",
    "    xpath = '''//*[@id=\"log.login\"]'''\n",
    "    driver.find_element_by_xpath(xpath).click()"
   ]
  },
  {
   "cell_type": "code",
   "execution_count": 173,
   "metadata": {},
   "outputs": [],
   "source": [
    "def Sort_Out(col) :\n",
    "    driver.get('https://mail.naver.com')\n",
    "    time.sleep(2)\n",
    "    \n",
    "    for num in range(9) :\n",
    "    \n",
    "        html = driver.page_source\n",
    "        soup = BeautifulSoup(html, 'html.parser')\n",
    "    \n",
    "        time.sleep(3)\n",
    "    \n",
    "        tmp_check = soup.find_all('ul', 'mInfo')\n",
    "        tmp_name = soup.find_all('div', 'name _ccr(lst.from) ')\n",
    "    \n",
    "        for i, temp in enumerate(tmp_check) :\n",
    "            if i % 2 == 0 :\n",
    "                use = temp.find('label')['for']\n",
    "                tmp = tmp_name[int(i/2)].a.get_text()\n",
    "        \n",
    "                for name in col :\n",
    "                    if tmp == name :\n",
    "                        lc = driver.find_element_by_id(use)\n",
    "                        try :\n",
    "                            lc.click()\n",
    "                        except :\n",
    "                            pass\n",
    "        driver.find_element_by_xpath('''//*[@id=\"listBtnMenu\"]/div[1]/span[2]/button[2]''').click()\n",
    "    \n",
    "        page_num = num + 2\n",
    "    \n",
    "        time.sleep(1)\n",
    "        \n",
    "        next_page = driver.find_element_by_id(str(page_num))\n",
    "        next_page.click()\n",
    "    \n",
    "        time.sleep(1)"
   ]
  },
  {
   "cell_type": "markdown",
   "metadata": {},
   "source": [
    "* 크롤링할 때 이용할 library를 가져온다."
   ]
  },
  {
   "cell_type": "code",
   "execution_count": 169,
   "metadata": {},
   "outputs": [],
   "source": [
    "from selenium import webdriver\n",
    "from bs4 import BeautifulSoup\n",
    "import time\n",
    "\n",
    "import warnings\n",
    "warnings.filterwarnings('ignore')"
   ]
  },
  {
   "cell_type": "markdown",
   "metadata": {},
   "source": [
    "* 크롬브라우저 켜기"
   ]
  },
  {
   "cell_type": "code",
   "execution_count": 174,
   "metadata": {},
   "outputs": [],
   "source": [
    "driver = webdriver.Chrome('../driver/chromedriver.exe')\n",
    "driver.get('https://mail.naver.com')"
   ]
  },
  {
   "cell_type": "markdown",
   "metadata": {},
   "source": [
    "* Naver의 메일을 정리할 것이므로 함수를 활용해 로그인한다.\n",
    "* 이 과정에서 자동로그인 방지를 위하여 직접 들어가서 로그인 해야할 수도 있다."
   ]
  },
  {
   "cell_type": "code",
   "execution_count": 175,
   "metadata": {},
   "outputs": [],
   "source": [
    "# Login_Naver('*********', '************')\n",
    "# *****에는 각각 아이디와 비밀번호를 입력해주도록 하자."
   ]
  },
  {
   "cell_type": "markdown",
   "metadata": {},
   "source": [
    "* 보낸이의 이름을 몇 개 적고 이후 추가하면서 메일함을 정리하도록 한다. \n",
    "\n",
    "\n",
    "* **10페이지까지 끝나면 다시 col을 수정해가며 코드를 실행해주도록 한다.**"
   ]
  },
  {
   "cell_type": "code",
   "execution_count": 176,
   "metadata": {},
   "outputs": [],
   "source": [
    "col = ['서울시청', '네이버 웹툰', '코멘토', '렌즈고고']"
   ]
  },
  {
   "cell_type": "code",
   "execution_count": null,
   "metadata": {},
   "outputs": [],
   "source": [
    "Sort_Out(col)"
   ]
  },
  {
   "cell_type": "code",
   "execution_count": null,
   "metadata": {},
   "outputs": [],
   "source": []
  }
 ],
 "metadata": {
  "kernelspec": {
   "display_name": "Python 3",
   "language": "python",
   "name": "python3"
  },
  "language_info": {
   "codemirror_mode": {
    "name": "ipython",
    "version": 3
   },
   "file_extension": ".py",
   "mimetype": "text/x-python",
   "name": "python",
   "nbconvert_exporter": "python",
   "pygments_lexer": "ipython3",
   "version": "3.7.4"
  }
 },
 "nbformat": 4,
 "nbformat_minor": 2
}
