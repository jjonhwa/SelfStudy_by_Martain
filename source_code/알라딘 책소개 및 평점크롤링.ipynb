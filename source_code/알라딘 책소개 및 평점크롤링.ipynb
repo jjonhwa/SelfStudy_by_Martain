{
 "cells": [
  {
   "cell_type": "code",
   "execution_count": 2,
   "metadata": {},
   "outputs": [],
   "source": [
    "from bs4 import BeautifulSoup\n",
    "import pandas as pd"
   ]
  },
  {
   "cell_type": "code",
   "execution_count": 167,
   "metadata": {},
   "outputs": [],
   "source": [
    "from urllib.request import urlopen\n",
    "from urllib.parse import urljoin"
   ]
  },
  {
   "cell_type": "code",
   "execution_count": 168,
   "metadata": {},
   "outputs": [],
   "source": [
    "from selenium import webdriver\n",
    "\n",
    "import requests; from urllib.parse import urlparse\n",
    "\n",
    "import time\n",
    "from tqdm import tqdm_notebook\n",
    "\n",
    "import warnings\n",
    "warnings.filterwarnings('ignore')"
   ]
  },
  {
   "cell_type": "markdown",
   "metadata": {},
   "source": [
    "### URL가져오기"
   ]
  },
  {
   "cell_type": "code",
   "execution_count": 169,
   "metadata": {},
   "outputs": [],
   "source": [
    "url = 'https://www.aladin.co.kr/shop/common/wbest.aspx?BestType=SteadySeller&BranchType=1&CID=170&page=1&cnt=100&SortOrder=1'\n",
    "\n",
    "page = urlopen(url)\n",
    "soup = BeautifulSoup(page, 'html.parser')"
   ]
  },
  {
   "cell_type": "code",
   "execution_count": 170,
   "metadata": {},
   "outputs": [],
   "source": [
    "book_name = []\n",
    "url_name = []\n",
    "\n",
    "list_soup = soup.find_all('div', 'ss_book_list')\n",
    "\n",
    "for i,item in enumerate(list_soup) :\n",
    "    if i%2 == 0:\n",
    "        book_name.append(item('b')[0].get_text())\n",
    "        url_name.append(urljoin(url, item.find(class_ = 'bo3')['href']))"
   ]
  },
  {
   "cell_type": "code",
   "execution_count": 171,
   "metadata": {},
   "outputs": [
    {
     "data": {
      "text/plain": [
       "(50, 50)"
      ]
     },
     "execution_count": 171,
     "metadata": {},
     "output_type": "execute_result"
    }
   ],
   "source": [
    "len(book_name), len(url_name)"
   ]
  },
  {
   "cell_type": "code",
   "execution_count": 205,
   "metadata": {},
   "outputs": [
    {
     "data": {
      "text/html": [
       "<div>\n",
       "<style scoped>\n",
       "    .dataframe tbody tr th:only-of-type {\n",
       "        vertical-align: middle;\n",
       "    }\n",
       "\n",
       "    .dataframe tbody tr th {\n",
       "        vertical-align: top;\n",
       "    }\n",
       "\n",
       "    .dataframe thead th {\n",
       "        text-align: right;\n",
       "    }\n",
       "</style>\n",
       "<table border=\"1\" class=\"dataframe\">\n",
       "  <thead>\n",
       "    <tr style=\"text-align: right;\">\n",
       "      <th></th>\n",
       "      <th>Book</th>\n",
       "      <th>URL</th>\n",
       "    </tr>\n",
       "  </thead>\n",
       "  <tbody>\n",
       "    <tr>\n",
       "      <td>0</td>\n",
       "      <td>부의 추월차선</td>\n",
       "      <td>https://www.aladin.co.kr/shop/wproduct.aspx?It...</td>\n",
       "    </tr>\n",
       "    <tr>\n",
       "      <td>1</td>\n",
       "      <td>전설로 떠나는 월가의 영웅 (2017 최신개정판)</td>\n",
       "      <td>https://www.aladin.co.kr/shop/wproduct.aspx?It...</td>\n",
       "    </tr>\n",
       "    <tr>\n",
       "      <td>2</td>\n",
       "      <td>부자 아빠 가난한 아빠 1 (20주년 특별 기념판)</td>\n",
       "      <td>https://www.aladin.co.kr/shop/wproduct.aspx?It...</td>\n",
       "    </tr>\n",
       "    <tr>\n",
       "      <td>3</td>\n",
       "      <td>주식 공부 5일 완성</td>\n",
       "      <td>https://www.aladin.co.kr/shop/wproduct.aspx?It...</td>\n",
       "    </tr>\n",
       "    <tr>\n",
       "      <td>4</td>\n",
       "      <td>돈, 뜨겁게 사랑하고 차갑게 다루어라</td>\n",
       "      <td>https://www.aladin.co.kr/shop/wproduct.aspx?It...</td>\n",
       "    </tr>\n",
       "  </tbody>\n",
       "</table>\n",
       "</div>"
      ],
      "text/plain": [
       "                           Book  \\\n",
       "0                       부의 추월차선   \n",
       "1   전설로 떠나는 월가의 영웅 (2017 최신개정판)   \n",
       "2  부자 아빠 가난한 아빠 1 (20주년 특별 기념판)   \n",
       "3                   주식 공부 5일 완성   \n",
       "4          돈, 뜨겁게 사랑하고 차갑게 다루어라   \n",
       "\n",
       "                                                 URL  \n",
       "0  https://www.aladin.co.kr/shop/wproduct.aspx?It...  \n",
       "1  https://www.aladin.co.kr/shop/wproduct.aspx?It...  \n",
       "2  https://www.aladin.co.kr/shop/wproduct.aspx?It...  \n",
       "3  https://www.aladin.co.kr/shop/wproduct.aspx?It...  \n",
       "4  https://www.aladin.co.kr/shop/wproduct.aspx?It...  "
      ]
     },
     "execution_count": 205,
     "metadata": {},
     "output_type": "execute_result"
    }
   ],
   "source": [
    "data = {'Book' : book_name,\n",
    "        'URL' : url_name}\n",
    "d_f = pd.DataFrame(data)\n",
    "d_f.head()"
   ]
  },
  {
   "cell_type": "markdown",
   "metadata": {},
   "source": [
    "### Selenium이용하여 정보 크롤링"
   ]
  },
  {
   "cell_type": "code",
   "execution_count": 317,
   "metadata": {},
   "outputs": [],
   "source": [
    "driver = webdriver.Chrome('../driver/chromedriver.exe')\n",
    "driver.get(d_f['URL'][0])"
   ]
  },
  {
   "cell_type": "markdown",
   "metadata": {},
   "source": [
    "**열린 크롬페이지를 스크롤 다운해줍니다.**"
   ]
  },
  {
   "cell_type": "code",
   "execution_count": 318,
   "metadata": {},
   "outputs": [],
   "source": [
    "driver.find_element_by_xpath('''//*[@id=\"Underline3_more\"]/a''').click()"
   ]
  },
  {
   "cell_type": "code",
   "execution_count": 319,
   "metadata": {},
   "outputs": [],
   "source": [
    "html = driver.page_source\n",
    "soup = BeautifulSoup(html)"
   ]
  },
  {
   "cell_type": "markdown",
   "metadata": {},
   "source": [
    "#### 책속에서 가져오기"
   ]
  },
  {
   "cell_type": "code",
   "execution_count": 320,
   "metadata": {},
   "outputs": [],
   "source": [
    "tmp = soup.find_all('div', 'Ere_prod_mconts_box')"
   ]
  },
  {
   "cell_type": "code",
   "execution_count": 324,
   "metadata": {},
   "outputs": [],
   "source": [
    "for i in range(10) :\n",
    "    tmp_tmp = tmp[i]\n",
    "    \n",
    "    try:\n",
    "        if tmp_tmp.find('div', 'Ere_prod_mconts_LL').get_text() == '책속에서' :\n",
    "            first_sentence = '첫문장 : ' + tmp_tmp.find('div', 'Fsen_conts').get_text()\n",
    "        \n",
    "            senten = []\n",
    "\n",
    "            senten.append(first_sentence)\n",
    "\n",
    "            for i in range(10) :\n",
    "                senten.append(tmp_tmp.find('span', id = 'u3_{}_more'.format(i+1)).get_text())\n",
    "            \n",
    "            break;\n",
    "            \n",
    "    except:\n",
    "        pass;"
   ]
  },
  {
   "cell_type": "code",
   "execution_count": 325,
   "metadata": {},
   "outputs": [
    {
     "data": {
      "text/html": [
       "<div>\n",
       "<style scoped>\n",
       "    .dataframe tbody tr th:only-of-type {\n",
       "        vertical-align: middle;\n",
       "    }\n",
       "\n",
       "    .dataframe tbody tr th {\n",
       "        vertical-align: top;\n",
       "    }\n",
       "\n",
       "    .dataframe thead th {\n",
       "        text-align: right;\n",
       "    }\n",
       "</style>\n",
       "<table border=\"1\" class=\"dataframe\">\n",
       "  <thead>\n",
       "    <tr style=\"text-align: right;\">\n",
       "      <th></th>\n",
       "      <th>문장들</th>\n",
       "    </tr>\n",
       "  </thead>\n",
       "  <tbody>\n",
       "    <tr>\n",
       "      <td>0</td>\n",
       "      <td>첫문장 : 부자가 되는 것이 목표인 당신이 '천천히 부자 되기' 전략을 선택했다면,...</td>\n",
       "    </tr>\n",
       "    <tr>\n",
       "      <td>1</td>\n",
       "      <td>P. 64  부는 모호한 개념이 아니다. 내 인생에서 가장 행복한 순간은 진정한 부...</td>\n",
       "    </tr>\n",
       "    <tr>\n",
       "      <td>2</td>\n",
       "      <td>P. 100  당신은 자유를 사기 위해 자유를 팔고 있다. 직장에서 돈을 벌려면 반...</td>\n",
       "    </tr>\n",
       "    <tr>\n",
       "      <td>3</td>\n",
       "      <td>P. 262  영향력의 법칙에 의하면 수백만 달러를 벌기 위해서는 수백만 명에게 영...</td>\n",
       "    </tr>\n",
       "    <tr>\n",
       "      <td>4</td>\n",
       "      <td>바로 그 때 나는 내가 이룬 것이 무엇인지 깨달았다. 그것이 바로 추월 차선이었다....</td>\n",
       "    </tr>\n",
       "    <tr>\n",
       "      <td>5</td>\n",
       "      <td>추월차선 여행을 성공적으로 마친 사람들은 거친 길 위에서 살고 죽기를 두려워하지 않...</td>\n",
       "    </tr>\n",
       "    <tr>\n",
       "      <td>6</td>\n",
       "      <td>영화 &lt;멋진 인행...&gt;의 마지막 장면은 다음과 같은 교훈을 던져 준다. ˝기억하라...</td>\n",
       "    </tr>\n",
       "    <tr>\n",
       "      <td>7</td>\n",
       "      <td>운을 이해하려면 더 높은 확률이 기대되는 과정에 참여하라. 운은 실제로 게임에 참여...</td>\n",
       "    </tr>\n",
       "    <tr>\n",
       "      <td>8</td>\n",
       "      <td>생각 없이 행동부터 한 일의 방식 때문에 아주르의 인생은 고통스러워졌다. 아주르는 ...</td>\n",
       "    </tr>\n",
       "    <tr>\n",
       "      <td>9</td>\n",
       "      <td>- 저축은 자유를 위해 투쟁할 군대를 모으는 방법이다.- 부자들은 복리를 목돈에 적...</td>\n",
       "    </tr>\n",
       "    <tr>\n",
       "      <td>10</td>\n",
       "      <td>차이를 보라. 전자는 얄팍하고 후자는 견고하다. 둘 다 같은 내용을 담은 듯 보이지...</td>\n",
       "    </tr>\n",
       "  </tbody>\n",
       "</table>\n",
       "</div>"
      ],
      "text/plain": [
       "                                                  문장들\n",
       "0   첫문장 : 부자가 되는 것이 목표인 당신이 '천천히 부자 되기' 전략을 선택했다면,...\n",
       "1   P. 64  부는 모호한 개념이 아니다. 내 인생에서 가장 행복한 순간은 진정한 부...\n",
       "2   P. 100  당신은 자유를 사기 위해 자유를 팔고 있다. 직장에서 돈을 벌려면 반...\n",
       "3   P. 262  영향력의 법칙에 의하면 수백만 달러를 벌기 위해서는 수백만 명에게 영...\n",
       "4   바로 그 때 나는 내가 이룬 것이 무엇인지 깨달았다. 그것이 바로 추월 차선이었다....\n",
       "5   추월차선 여행을 성공적으로 마친 사람들은 거친 길 위에서 살고 죽기를 두려워하지 않...\n",
       "6   영화 <멋진 인행...>의 마지막 장면은 다음과 같은 교훈을 던져 준다. ˝기억하라...\n",
       "7   운을 이해하려면 더 높은 확률이 기대되는 과정에 참여하라. 운은 실제로 게임에 참여...\n",
       "8   생각 없이 행동부터 한 일의 방식 때문에 아주르의 인생은 고통스러워졌다. 아주르는 ...\n",
       "9   - 저축은 자유를 위해 투쟁할 군대를 모으는 방법이다.- 부자들은 복리를 목돈에 적...\n",
       "10  차이를 보라. 전자는 얄팍하고 후자는 견고하다. 둘 다 같은 내용을 담은 듯 보이지..."
      ]
     },
     "execution_count": 325,
     "metadata": {},
     "output_type": "execute_result"
    }
   ],
   "source": [
    "data = {'문장들' : senten}\n",
    "df = pd.DataFrame(data)\n",
    "df"
   ]
  },
  {
   "cell_type": "markdown",
   "metadata": {},
   "source": [
    "#### 연령별, 성별 분포 가져오기"
   ]
  },
  {
   "cell_type": "code",
   "execution_count": 192,
   "metadata": {},
   "outputs": [],
   "source": [
    "what = soup.find('div', 'Ere_prod_graphwrap_a')"
   ]
  },
  {
   "cell_type": "code",
   "execution_count": 193,
   "metadata": {},
   "outputs": [],
   "source": [
    "what_what = what.find('div', 'analysis_box')"
   ]
  },
  {
   "cell_type": "code",
   "execution_count": 195,
   "metadata": {},
   "outputs": [],
   "source": [
    "what_woman = what_what.find_all('td', 'tb_woman')\n",
    "what_man = what_what.find_all('td', 'tb_man')\n",
    "what_age = what_what.find_all('td', 'tb_tit')"
   ]
  },
  {
   "cell_type": "code",
   "execution_count": 196,
   "metadata": {},
   "outputs": [],
   "source": [
    "buyer_woman = []\n",
    "buyer_man = []\n",
    "buyer_age = []\n",
    "\n",
    "for i in range(len(what_what.find_all('td', 'tb_woman'))):\n",
    "    buyer_woman.append(what_woman[i].find('div', 'per').get_text())\n",
    "    buyer_man.append(what_man[i].find('div', 'per').get_text())\n",
    "    buyer_age.append(what_age[i].get_text())"
   ]
  },
  {
   "cell_type": "code",
   "execution_count": 197,
   "metadata": {},
   "outputs": [
    {
     "data": {
      "text/html": [
       "<div>\n",
       "<style scoped>\n",
       "    .dataframe tbody tr th:only-of-type {\n",
       "        vertical-align: middle;\n",
       "    }\n",
       "\n",
       "    .dataframe tbody tr th {\n",
       "        vertical-align: top;\n",
       "    }\n",
       "\n",
       "    .dataframe thead th {\n",
       "        text-align: right;\n",
       "    }\n",
       "</style>\n",
       "<table border=\"1\" class=\"dataframe\">\n",
       "  <thead>\n",
       "    <tr style=\"text-align: right;\">\n",
       "      <th></th>\n",
       "      <th>연령</th>\n",
       "      <th>남자</th>\n",
       "      <th>여자</th>\n",
       "    </tr>\n",
       "  </thead>\n",
       "  <tbody>\n",
       "    <tr>\n",
       "      <td>0</td>\n",
       "      <td>10대</td>\n",
       "      <td>0.4%</td>\n",
       "      <td>0.3%</td>\n",
       "    </tr>\n",
       "    <tr>\n",
       "      <td>1</td>\n",
       "      <td>20대</td>\n",
       "      <td>12.9%</td>\n",
       "      <td>9.5%</td>\n",
       "    </tr>\n",
       "    <tr>\n",
       "      <td>2</td>\n",
       "      <td>30대</td>\n",
       "      <td>18.4%</td>\n",
       "      <td>18.0%</td>\n",
       "    </tr>\n",
       "    <tr>\n",
       "      <td>3</td>\n",
       "      <td>40대</td>\n",
       "      <td>12.7%</td>\n",
       "      <td>15.9%</td>\n",
       "    </tr>\n",
       "    <tr>\n",
       "      <td>4</td>\n",
       "      <td>50대</td>\n",
       "      <td>4.9%</td>\n",
       "      <td>5.2%</td>\n",
       "    </tr>\n",
       "    <tr>\n",
       "      <td>5</td>\n",
       "      <td>60대</td>\n",
       "      <td>1.1%</td>\n",
       "      <td>0.7%</td>\n",
       "    </tr>\n",
       "  </tbody>\n",
       "</table>\n",
       "</div>"
      ],
      "text/plain": [
       "    연령     남자     여자\n",
       "0  10대   0.4%   0.3%\n",
       "1  20대  12.9%   9.5%\n",
       "2  30대  18.4%  18.0%\n",
       "3  40대  12.7%  15.9%\n",
       "4  50대   4.9%   5.2%\n",
       "5  60대   1.1%   0.7%"
      ]
     },
     "execution_count": 197,
     "metadata": {},
     "output_type": "execute_result"
    }
   ],
   "source": [
    "data = {'연령' : buyer_age,\n",
    "        '남자' : buyer_man,\n",
    "        '여자' : buyer_woman}\n",
    "df = pd.DataFrame(data)\n",
    "df"
   ]
  },
  {
   "cell_type": "markdown",
   "metadata": {},
   "source": [
    "#### 평점 가져오기"
   ]
  },
  {
   "cell_type": "code",
   "execution_count": 241,
   "metadata": {},
   "outputs": [],
   "source": [
    "wtd = soup.find('div', 'star_box')"
   ]
  },
  {
   "cell_type": "code",
   "execution_count": 242,
   "metadata": {},
   "outputs": [],
   "source": [
    "wtd_star = wtd.find('div', 'score_box').get_text().replace(' ', '')"
   ]
  },
  {
   "cell_type": "code",
   "execution_count": 243,
   "metadata": {},
   "outputs": [
    {
     "data": {
      "text/plain": [
       "'9.4'"
      ]
     },
     "execution_count": 243,
     "metadata": {},
     "output_type": "execute_result"
    }
   ],
   "source": [
    "wtd_star"
   ]
  },
  {
   "cell_type": "code",
   "execution_count": 200,
   "metadata": {},
   "outputs": [],
   "source": [
    "wtd_wtd = wtd.find_all('td', 'tb_right')"
   ]
  },
  {
   "cell_type": "code",
   "execution_count": 201,
   "metadata": {},
   "outputs": [],
   "source": [
    "wtd_list = wtd_wtd[0].get_text().replace(' ', '')"
   ]
  },
  {
   "cell_type": "code",
   "execution_count": 202,
   "metadata": {},
   "outputs": [],
   "source": [
    "score_list = []\n",
    "wtd_list = []\n",
    "total_score = []\n",
    "\n",
    "for i in range(len(wtd_wtd)):\n",
    "    score_list.append('{}점'.format(5-i))\n",
    "    wtd_list.append(wtd_wtd[i].get_text().replace(' ', ''))\n",
    "    total_score.append(wtd_star)"
   ]
  },
  {
   "cell_type": "code",
   "execution_count": 203,
   "metadata": {},
   "outputs": [
    {
     "data": {
      "text/html": [
       "<div>\n",
       "<style scoped>\n",
       "    .dataframe tbody tr th:only-of-type {\n",
       "        vertical-align: middle;\n",
       "    }\n",
       "\n",
       "    .dataframe tbody tr th {\n",
       "        vertical-align: top;\n",
       "    }\n",
       "\n",
       "    .dataframe thead th {\n",
       "        text-align: right;\n",
       "    }\n",
       "</style>\n",
       "<table border=\"1\" class=\"dataframe\">\n",
       "  <thead>\n",
       "    <tr style=\"text-align: right;\">\n",
       "      <th></th>\n",
       "      <th>별점</th>\n",
       "      <th>점수</th>\n",
       "      <th>총점</th>\n",
       "    </tr>\n",
       "  </thead>\n",
       "  <tbody>\n",
       "    <tr>\n",
       "      <td>0</td>\n",
       "      <td>5점</td>\n",
       "      <td>46.5%</td>\n",
       "      <td>8.2</td>\n",
       "    </tr>\n",
       "    <tr>\n",
       "      <td>1</td>\n",
       "      <td>4점</td>\n",
       "      <td>29.7%</td>\n",
       "      <td>8.2</td>\n",
       "    </tr>\n",
       "    <tr>\n",
       "      <td>2</td>\n",
       "      <td>3점</td>\n",
       "      <td>16.8%</td>\n",
       "      <td>8.2</td>\n",
       "    </tr>\n",
       "    <tr>\n",
       "      <td>3</td>\n",
       "      <td>2점</td>\n",
       "      <td>2.0%</td>\n",
       "      <td>8.2</td>\n",
       "    </tr>\n",
       "    <tr>\n",
       "      <td>4</td>\n",
       "      <td>1점</td>\n",
       "      <td>5.0%</td>\n",
       "      <td>8.2</td>\n",
       "    </tr>\n",
       "  </tbody>\n",
       "</table>\n",
       "</div>"
      ],
      "text/plain": [
       "   별점     점수   총점\n",
       "0  5점  46.5%  8.2\n",
       "1  4점  29.7%  8.2\n",
       "2  3점  16.8%  8.2\n",
       "3  2점   2.0%  8.2\n",
       "4  1점   5.0%  8.2"
      ]
     },
     "execution_count": 203,
     "metadata": {},
     "output_type": "execute_result"
    }
   ],
   "source": [
    "data = { '별점' : score_list,\n",
    "         '점수' : wtd_list,\n",
    "         '총점' : total_score}\n",
    "df = pd.DataFrame(data)\n",
    "df"
   ]
  },
  {
   "cell_type": "markdown",
   "metadata": {},
   "source": [
    "### 함수정리"
   ]
  },
  {
   "cell_type": "code",
   "execution_count": 326,
   "metadata": {},
   "outputs": [],
   "source": [
    "# 책속에서\n",
    "def inbook(soup) :\n",
    "    tmp = soup.find_all('div', 'Ere_prod_mconts_box')\n",
    "    \n",
    "    for i in range(10) :\n",
    "        tmp_tmp = tmp[i]\n",
    "    \n",
    "        try :\n",
    "            if tmp_tmp.find('div', 'Ere_prod_mconts_LL').get_text() == '책속에서' :\n",
    "                first_sentence = '첫문장 : ' + tmp_tmp.find('div', 'Fsen_conts').get_text()\n",
    "        \n",
    "                senten = []\n",
    "\n",
    "                senten.append(first_sentence)\n",
    "\n",
    "                for i in range(10) :\n",
    "                    senten.append(tmp_tmp.find('span', id = 'u3_{}_more'.format(i+1)).get_text())\n",
    "            \n",
    "                break;\n",
    "                \n",
    "        except :\n",
    "            pass;\n",
    "            \n",
    "    data = {'문장들' : senten}\n",
    "    df = pd.DataFrame(data)\n",
    "    \n",
    "    return df"
   ]
  },
  {
   "cell_type": "code",
   "execution_count": 247,
   "metadata": {},
   "outputs": [
    {
     "data": {
      "text/html": [
       "<div>\n",
       "<style scoped>\n",
       "    .dataframe tbody tr th:only-of-type {\n",
       "        vertical-align: middle;\n",
       "    }\n",
       "\n",
       "    .dataframe tbody tr th {\n",
       "        vertical-align: top;\n",
       "    }\n",
       "\n",
       "    .dataframe thead th {\n",
       "        text-align: right;\n",
       "    }\n",
       "</style>\n",
       "<table border=\"1\" class=\"dataframe\">\n",
       "  <thead>\n",
       "    <tr style=\"text-align: right;\">\n",
       "      <th></th>\n",
       "      <th>문장들</th>\n",
       "    </tr>\n",
       "  </thead>\n",
       "  <tbody>\n",
       "    <tr>\n",
       "      <td>0</td>\n",
       "      <td>첫문장 : 주식투자 능력은 유전인자로 좌우되지 않는다.</td>\n",
       "    </tr>\n",
       "    <tr>\n",
       "      <td>1</td>\n",
       "      <td>P. 66~67  * 만약 스바루 자동차를 살 때 스바루 주식도 함께 샀다면 그 소...</td>\n",
       "    </tr>\n",
       "    <tr>\n",
       "      <td>2</td>\n",
       "      <td>P. 179~180  * 어떤 경로로 종목을 발굴하더라도 성급하게 주식을 매수해서는...</td>\n",
       "    </tr>\n",
       "    <tr>\n",
       "      <td>3</td>\n",
       "      <td>P. 395  * 투자 자문계의 두 파벌 사이에서는 오랫동안 논쟁이 이어져 왔다. ...</td>\n",
       "    </tr>\n",
       "    <tr>\n",
       "      <td>4</td>\n",
       "      <td>다시말해 종목의 수에 얽매이지 말고 종목의 내용을 살펴라. 단순히 많은 기업에 투자...</td>\n",
       "    </tr>\n",
       "    <tr>\n",
       "      <td>5</td>\n",
       "      <td>나는 주식을 매수하기 전에 이 주식에 흥미를 느끼는 이유, 이 회사가 성공하기 위해...</td>\n",
       "    </tr>\n",
       "    <tr>\n",
       "      <td>6</td>\n",
       "      <td>기본에 바탕을 두고 조심스럽게 가지치기와 교체 매매를 하면, 실적을 향상시킬 수 있...</td>\n",
       "    </tr>\n",
       "    <tr>\n",
       "      <td>7</td>\n",
       "      <td>새로운 아이디어에 항상 마음을 열어 놓으라. -  Investor우기ya</td>\n",
       "    </tr>\n",
       "    <tr>\n",
       "      <td>8</td>\n",
       "      <td>마음에 든다고 해서 ‘모든 여자에게 입맞춤‘을 할 수는 없다. 나도 10루타 종목을...</td>\n",
       "    </tr>\n",
       "    <tr>\n",
       "      <td>9</td>\n",
       "      <td>주말은 물론이고 주중에도 온 나라가 금방이라도 무너질 듯 겅정하는 소리를 듣는다. ...</td>\n",
       "    </tr>\n",
       "    <tr>\n",
       "      <td>10</td>\n",
       "      <td>모두들 알다시피 먼저 우리가 주식을 매입한 이유를 안다면, 우리는 그 주식과 작별해...</td>\n",
       "    </tr>\n",
       "  </tbody>\n",
       "</table>\n",
       "</div>"
      ],
      "text/plain": [
       "                                                  문장들\n",
       "0                      첫문장 : 주식투자 능력은 유전인자로 좌우되지 않는다.\n",
       "1   P. 66~67  * 만약 스바루 자동차를 살 때 스바루 주식도 함께 샀다면 그 소...\n",
       "2   P. 179~180  * 어떤 경로로 종목을 발굴하더라도 성급하게 주식을 매수해서는...\n",
       "3   P. 395  * 투자 자문계의 두 파벌 사이에서는 오랫동안 논쟁이 이어져 왔다. ...\n",
       "4   다시말해 종목의 수에 얽매이지 말고 종목의 내용을 살펴라. 단순히 많은 기업에 투자...\n",
       "5   나는 주식을 매수하기 전에 이 주식에 흥미를 느끼는 이유, 이 회사가 성공하기 위해...\n",
       "6   기본에 바탕을 두고 조심스럽게 가지치기와 교체 매매를 하면, 실적을 향상시킬 수 있...\n",
       "7            새로운 아이디어에 항상 마음을 열어 놓으라. -  Investor우기ya\n",
       "8   마음에 든다고 해서 ‘모든 여자에게 입맞춤‘을 할 수는 없다. 나도 10루타 종목을...\n",
       "9   주말은 물론이고 주중에도 온 나라가 금방이라도 무너질 듯 겅정하는 소리를 듣는다. ...\n",
       "10  모두들 알다시피 먼저 우리가 주식을 매입한 이유를 안다면, 우리는 그 주식과 작별해..."
      ]
     },
     "execution_count": 247,
     "metadata": {},
     "output_type": "execute_result"
    }
   ],
   "source": [
    "inbook(soup)"
   ]
  },
  {
   "cell_type": "code",
   "execution_count": 248,
   "metadata": {},
   "outputs": [],
   "source": [
    "# 연령, 성별 분포\n",
    "def dist(soup) :\n",
    "    what = soup.find('div', 'Ere_prod_graphwrap_a')\n",
    "    \n",
    "    what_what = what.find('div', 'analysis_box')\n",
    "    \n",
    "    what_woman = what_what.find_all('td', 'tb_woman')\n",
    "    what_man = what_what.find_all('td', 'tb_man')\n",
    "    what_age = what_what.find_all('td', 'tb_tit')\n",
    "    \n",
    "    buyer_woman = []\n",
    "    buyer_man = []\n",
    "    buyer_age = []\n",
    "    \n",
    "    for i in range(len(what_what.find_all('td', 'tb_woman'))) :\n",
    "        buyer_woman.append(what_woman[i].find('div', 'per').get_text())\n",
    "        buyer_man.append(what_man[i].find('div', 'per').get_text())\n",
    "        buyer_age.append(what_age[i].get_text())\n",
    "        \n",
    "    data = {'연령' : buyer_age,\n",
    "            '남자' : buyer_man,\n",
    "            '여자' : buyer_woman}\n",
    "    df = pd.DataFrame(data)\n",
    "    \n",
    "    return df"
   ]
  },
  {
   "cell_type": "code",
   "execution_count": 249,
   "metadata": {},
   "outputs": [
    {
     "data": {
      "text/html": [
       "<div>\n",
       "<style scoped>\n",
       "    .dataframe tbody tr th:only-of-type {\n",
       "        vertical-align: middle;\n",
       "    }\n",
       "\n",
       "    .dataframe tbody tr th {\n",
       "        vertical-align: top;\n",
       "    }\n",
       "\n",
       "    .dataframe thead th {\n",
       "        text-align: right;\n",
       "    }\n",
       "</style>\n",
       "<table border=\"1\" class=\"dataframe\">\n",
       "  <thead>\n",
       "    <tr style=\"text-align: right;\">\n",
       "      <th></th>\n",
       "      <th>연령</th>\n",
       "      <th>남자</th>\n",
       "      <th>여자</th>\n",
       "    </tr>\n",
       "  </thead>\n",
       "  <tbody>\n",
       "    <tr>\n",
       "      <td>0</td>\n",
       "      <td>10대</td>\n",
       "      <td>0.5%</td>\n",
       "      <td>0.1%</td>\n",
       "    </tr>\n",
       "    <tr>\n",
       "      <td>1</td>\n",
       "      <td>20대</td>\n",
       "      <td>19.8%</td>\n",
       "      <td>6.3%</td>\n",
       "    </tr>\n",
       "    <tr>\n",
       "      <td>2</td>\n",
       "      <td>30대</td>\n",
       "      <td>22.8%</td>\n",
       "      <td>12.8%</td>\n",
       "    </tr>\n",
       "    <tr>\n",
       "      <td>3</td>\n",
       "      <td>40대</td>\n",
       "      <td>13.7%</td>\n",
       "      <td>11.6%</td>\n",
       "    </tr>\n",
       "    <tr>\n",
       "      <td>4</td>\n",
       "      <td>50대</td>\n",
       "      <td>5.7%</td>\n",
       "      <td>5.0%</td>\n",
       "    </tr>\n",
       "    <tr>\n",
       "      <td>5</td>\n",
       "      <td>60대</td>\n",
       "      <td>1.2%</td>\n",
       "      <td>0.5%</td>\n",
       "    </tr>\n",
       "  </tbody>\n",
       "</table>\n",
       "</div>"
      ],
      "text/plain": [
       "    연령     남자     여자\n",
       "0  10대   0.5%   0.1%\n",
       "1  20대  19.8%   6.3%\n",
       "2  30대  22.8%  12.8%\n",
       "3  40대  13.7%  11.6%\n",
       "4  50대   5.7%   5.0%\n",
       "5  60대   1.2%   0.5%"
      ]
     },
     "execution_count": 249,
     "metadata": {},
     "output_type": "execute_result"
    }
   ],
   "source": [
    "dist(soup)"
   ]
  },
  {
   "cell_type": "code",
   "execution_count": 250,
   "metadata": {},
   "outputs": [],
   "source": [
    "# 평점\n",
    "def score(soup) :\n",
    "    wtd = soup.find('div', 'star_box')\n",
    "    \n",
    "    wtd_star = wtd.find('div', 'score_box').get_text().replace(' ', '')\n",
    "    \n",
    "    wtd_wtd = wtd.find_all('td', 'tb_right')\n",
    "    \n",
    "    score_list = []\n",
    "    wtd_list = []\n",
    "    total_score = []\n",
    "\n",
    "    for i in range(len(wtd_wtd)):\n",
    "        score_list.append('{}점'.format(5-i))\n",
    "        wtd_list.append(wtd_wtd[i].get_text().replace(' ', ''))\n",
    "        total_score.append(wtd_star)\n",
    "        \n",
    "    data = { '별점' : score_list,\n",
    "             '점수' : wtd_list,\n",
    "             '총점' : total_score}\n",
    "    df = pd.DataFrame(data)\n",
    "    \n",
    "    \n",
    "    return df"
   ]
  },
  {
   "cell_type": "code",
   "execution_count": 251,
   "metadata": {},
   "outputs": [
    {
     "data": {
      "text/html": [
       "<div>\n",
       "<style scoped>\n",
       "    .dataframe tbody tr th:only-of-type {\n",
       "        vertical-align: middle;\n",
       "    }\n",
       "\n",
       "    .dataframe tbody tr th {\n",
       "        vertical-align: top;\n",
       "    }\n",
       "\n",
       "    .dataframe thead th {\n",
       "        text-align: right;\n",
       "    }\n",
       "</style>\n",
       "<table border=\"1\" class=\"dataframe\">\n",
       "  <thead>\n",
       "    <tr style=\"text-align: right;\">\n",
       "      <th></th>\n",
       "      <th>별점</th>\n",
       "      <th>점수</th>\n",
       "      <th>총점</th>\n",
       "    </tr>\n",
       "  </thead>\n",
       "  <tbody>\n",
       "    <tr>\n",
       "      <td>0</td>\n",
       "      <td>5점</td>\n",
       "      <td>74.4%</td>\n",
       "      <td>9.4</td>\n",
       "    </tr>\n",
       "    <tr>\n",
       "      <td>1</td>\n",
       "      <td>4점</td>\n",
       "      <td>20.5%</td>\n",
       "      <td>9.4</td>\n",
       "    </tr>\n",
       "    <tr>\n",
       "      <td>2</td>\n",
       "      <td>3점</td>\n",
       "      <td>5.1%</td>\n",
       "      <td>9.4</td>\n",
       "    </tr>\n",
       "    <tr>\n",
       "      <td>3</td>\n",
       "      <td>2점</td>\n",
       "      <td>0%</td>\n",
       "      <td>9.4</td>\n",
       "    </tr>\n",
       "    <tr>\n",
       "      <td>4</td>\n",
       "      <td>1점</td>\n",
       "      <td>0%</td>\n",
       "      <td>9.4</td>\n",
       "    </tr>\n",
       "  </tbody>\n",
       "</table>\n",
       "</div>"
      ],
      "text/plain": [
       "   별점     점수   총점\n",
       "0  5점  74.4%  9.4\n",
       "1  4점  20.5%  9.4\n",
       "2  3점   5.1%  9.4\n",
       "3  2점     0%  9.4\n",
       "4  1점     0%  9.4"
      ]
     },
     "execution_count": 251,
     "metadata": {},
     "output_type": "execute_result"
    }
   ],
   "source": [
    "score(soup)"
   ]
  },
  {
   "cell_type": "markdown",
   "metadata": {},
   "source": [
    "### 크롤링하기"
   ]
  },
  {
   "cell_type": "code",
   "execution_count": 353,
   "metadata": {},
   "outputs": [],
   "source": [
    "driver = webdriver.Chrome('../driver/chromedriver.exe')\n",
    "driver.get(d_f['URL'][1])"
   ]
  },
  {
   "cell_type": "code",
   "execution_count": 343,
   "metadata": {},
   "outputs": [],
   "source": [
    "SCROLL_PAUSE_SEC = 1\n",
    "\n",
    "last_height = driver.execute_script(\"return document.body.scrollHeight\")"
   ]
  },
  {
   "cell_type": "code",
   "execution_count": 344,
   "metadata": {},
   "outputs": [],
   "source": [
    "iterate = [10, 100, 1000, 2000, 3000, 4000, 5000, 6000, 2000, 4000]\n",
    "\n",
    "for i in iterate :\n",
    "    while True:\n",
    "        # 끝까지 스크롤 다운\n",
    "        driver.execute_script(\"window.scrollTo(0, {});\".format(i))\n",
    "        # 1초 대기\n",
    "        time.sleep(SCROLL_PAUSE_SEC)\n",
    "\n",
    "        # 스크롤 다운 후 스크롤 높이 다시 가져옴\n",
    "        new_height = driver.execute_script(\"return document.body.scrollHeight\")\n",
    "        if new_height == last_height:\n",
    "            break\n",
    "        last_height = new_height"
   ]
  },
  {
   "cell_type": "code",
   "execution_count": 347,
   "metadata": {},
   "outputs": [],
   "source": [
    "# ActionChains 를 사용하기 위해서.\n",
    "from selenium.webdriver import ActionChains\n",
    "\n",
    "# id가 something 인 element 를 찾음\n",
    "some_tag = driver.find_element_by_id('Underline3_more')\n",
    "\n",
    "# somthing element 까지 스크롤\n",
    "action = ActionChains(driver)\n",
    "action.move_to_element(some_tag).perform()"
   ]
  },
  {
   "cell_type": "code",
   "execution_count": 354,
   "metadata": {},
   "outputs": [],
   "source": [
    "driver.find_element_by_xpath('''//*[@id=\"Underline3_more\"]/a''').click()"
   ]
  },
  {
   "cell_type": "code",
   "execution_count": 355,
   "metadata": {},
   "outputs": [],
   "source": [
    "html = driver.page_source\n",
    "soup = BeautifulSoup(html)"
   ]
  },
  {
   "cell_type": "code",
   "execution_count": 356,
   "metadata": {},
   "outputs": [
    {
     "data": {
      "text/html": [
       "<div>\n",
       "<style scoped>\n",
       "    .dataframe tbody tr th:only-of-type {\n",
       "        vertical-align: middle;\n",
       "    }\n",
       "\n",
       "    .dataframe tbody tr th {\n",
       "        vertical-align: top;\n",
       "    }\n",
       "\n",
       "    .dataframe thead th {\n",
       "        text-align: right;\n",
       "    }\n",
       "</style>\n",
       "<table border=\"1\" class=\"dataframe\">\n",
       "  <thead>\n",
       "    <tr style=\"text-align: right;\">\n",
       "      <th></th>\n",
       "      <th>문장들</th>\n",
       "    </tr>\n",
       "  </thead>\n",
       "  <tbody>\n",
       "    <tr>\n",
       "      <td>0</td>\n",
       "      <td>첫문장 : 주식투자 능력은 유전인자로 좌우되지 않는다.</td>\n",
       "    </tr>\n",
       "    <tr>\n",
       "      <td>1</td>\n",
       "      <td>P. 66~67  * 만약 스바루 자동차를 살 때 스바루 주식도 함께 샀다면 그 소...</td>\n",
       "    </tr>\n",
       "    <tr>\n",
       "      <td>2</td>\n",
       "      <td>P. 179~180  * 어떤 경로로 종목을 발굴하더라도 성급하게 주식을 매수해서는...</td>\n",
       "    </tr>\n",
       "    <tr>\n",
       "      <td>3</td>\n",
       "      <td>P. 395  * 투자 자문계의 두 파벌 사이에서는 오랫동안 논쟁이 이어져 왔다. ...</td>\n",
       "    </tr>\n",
       "    <tr>\n",
       "      <td>4</td>\n",
       "      <td>다시말해 종목의 수에 얽매이지 말고 종목의 내용을 살펴라. 단순히 많은 기업에 투자...</td>\n",
       "    </tr>\n",
       "    <tr>\n",
       "      <td>5</td>\n",
       "      <td>나는 주식을 매수하기 전에 이 주식에 흥미를 느끼는 이유, 이 회사가 성공하기 위해...</td>\n",
       "    </tr>\n",
       "    <tr>\n",
       "      <td>6</td>\n",
       "      <td>기본에 바탕을 두고 조심스럽게 가지치기와 교체 매매를 하면, 실적을 향상시킬 수 있...</td>\n",
       "    </tr>\n",
       "    <tr>\n",
       "      <td>7</td>\n",
       "      <td>새로운 아이디어에 항상 마음을 열어 놓으라. -  Investor우기ya</td>\n",
       "    </tr>\n",
       "    <tr>\n",
       "      <td>8</td>\n",
       "      <td>마음에 든다고 해서 ‘모든 여자에게 입맞춤‘을 할 수는 없다. 나도 10루타 종목을...</td>\n",
       "    </tr>\n",
       "    <tr>\n",
       "      <td>9</td>\n",
       "      <td>주말은 물론이고 주중에도 온 나라가 금방이라도 무너질 듯 겅정하는 소리를 듣는다. ...</td>\n",
       "    </tr>\n",
       "    <tr>\n",
       "      <td>10</td>\n",
       "      <td>모두들 알다시피 먼저 우리가 주식을 매입한 이유를 안다면, 우리는 그 주식과 작별해...</td>\n",
       "    </tr>\n",
       "  </tbody>\n",
       "</table>\n",
       "</div>"
      ],
      "text/plain": [
       "                                                  문장들\n",
       "0                      첫문장 : 주식투자 능력은 유전인자로 좌우되지 않는다.\n",
       "1   P. 66~67  * 만약 스바루 자동차를 살 때 스바루 주식도 함께 샀다면 그 소...\n",
       "2   P. 179~180  * 어떤 경로로 종목을 발굴하더라도 성급하게 주식을 매수해서는...\n",
       "3   P. 395  * 투자 자문계의 두 파벌 사이에서는 오랫동안 논쟁이 이어져 왔다. ...\n",
       "4   다시말해 종목의 수에 얽매이지 말고 종목의 내용을 살펴라. 단순히 많은 기업에 투자...\n",
       "5   나는 주식을 매수하기 전에 이 주식에 흥미를 느끼는 이유, 이 회사가 성공하기 위해...\n",
       "6   기본에 바탕을 두고 조심스럽게 가지치기와 교체 매매를 하면, 실적을 향상시킬 수 있...\n",
       "7            새로운 아이디어에 항상 마음을 열어 놓으라. -  Investor우기ya\n",
       "8   마음에 든다고 해서 ‘모든 여자에게 입맞춤‘을 할 수는 없다. 나도 10루타 종목을...\n",
       "9   주말은 물론이고 주중에도 온 나라가 금방이라도 무너질 듯 겅정하는 소리를 듣는다. ...\n",
       "10  모두들 알다시피 먼저 우리가 주식을 매입한 이유를 안다면, 우리는 그 주식과 작별해..."
      ]
     },
     "execution_count": 356,
     "metadata": {},
     "output_type": "execute_result"
    }
   ],
   "source": [
    "inbook(soup)"
   ]
  },
  {
   "cell_type": "code",
   "execution_count": 357,
   "metadata": {},
   "outputs": [
    {
     "data": {
      "text/html": [
       "<div>\n",
       "<style scoped>\n",
       "    .dataframe tbody tr th:only-of-type {\n",
       "        vertical-align: middle;\n",
       "    }\n",
       "\n",
       "    .dataframe tbody tr th {\n",
       "        vertical-align: top;\n",
       "    }\n",
       "\n",
       "    .dataframe thead th {\n",
       "        text-align: right;\n",
       "    }\n",
       "</style>\n",
       "<table border=\"1\" class=\"dataframe\">\n",
       "  <thead>\n",
       "    <tr style=\"text-align: right;\">\n",
       "      <th></th>\n",
       "      <th>연령</th>\n",
       "      <th>남자</th>\n",
       "      <th>여자</th>\n",
       "    </tr>\n",
       "  </thead>\n",
       "  <tbody>\n",
       "    <tr>\n",
       "      <td>0</td>\n",
       "      <td>10대</td>\n",
       "      <td>0.5%</td>\n",
       "      <td>0.1%</td>\n",
       "    </tr>\n",
       "    <tr>\n",
       "      <td>1</td>\n",
       "      <td>20대</td>\n",
       "      <td>19.8%</td>\n",
       "      <td>6.3%</td>\n",
       "    </tr>\n",
       "    <tr>\n",
       "      <td>2</td>\n",
       "      <td>30대</td>\n",
       "      <td>22.8%</td>\n",
       "      <td>12.8%</td>\n",
       "    </tr>\n",
       "    <tr>\n",
       "      <td>3</td>\n",
       "      <td>40대</td>\n",
       "      <td>13.7%</td>\n",
       "      <td>11.6%</td>\n",
       "    </tr>\n",
       "    <tr>\n",
       "      <td>4</td>\n",
       "      <td>50대</td>\n",
       "      <td>5.7%</td>\n",
       "      <td>5.0%</td>\n",
       "    </tr>\n",
       "    <tr>\n",
       "      <td>5</td>\n",
       "      <td>60대</td>\n",
       "      <td>1.2%</td>\n",
       "      <td>0.5%</td>\n",
       "    </tr>\n",
       "  </tbody>\n",
       "</table>\n",
       "</div>"
      ],
      "text/plain": [
       "    연령     남자     여자\n",
       "0  10대   0.5%   0.1%\n",
       "1  20대  19.8%   6.3%\n",
       "2  30대  22.8%  12.8%\n",
       "3  40대  13.7%  11.6%\n",
       "4  50대   5.7%   5.0%\n",
       "5  60대   1.2%   0.5%"
      ]
     },
     "execution_count": 357,
     "metadata": {},
     "output_type": "execute_result"
    }
   ],
   "source": [
    "dist(soup)"
   ]
  },
  {
   "cell_type": "code",
   "execution_count": 358,
   "metadata": {},
   "outputs": [
    {
     "data": {
      "text/html": [
       "<div>\n",
       "<style scoped>\n",
       "    .dataframe tbody tr th:only-of-type {\n",
       "        vertical-align: middle;\n",
       "    }\n",
       "\n",
       "    .dataframe tbody tr th {\n",
       "        vertical-align: top;\n",
       "    }\n",
       "\n",
       "    .dataframe thead th {\n",
       "        text-align: right;\n",
       "    }\n",
       "</style>\n",
       "<table border=\"1\" class=\"dataframe\">\n",
       "  <thead>\n",
       "    <tr style=\"text-align: right;\">\n",
       "      <th></th>\n",
       "      <th>별점</th>\n",
       "      <th>점수</th>\n",
       "      <th>총점</th>\n",
       "    </tr>\n",
       "  </thead>\n",
       "  <tbody>\n",
       "    <tr>\n",
       "      <td>0</td>\n",
       "      <td>5점</td>\n",
       "      <td>74.4%</td>\n",
       "      <td>9.4</td>\n",
       "    </tr>\n",
       "    <tr>\n",
       "      <td>1</td>\n",
       "      <td>4점</td>\n",
       "      <td>20.5%</td>\n",
       "      <td>9.4</td>\n",
       "    </tr>\n",
       "    <tr>\n",
       "      <td>2</td>\n",
       "      <td>3점</td>\n",
       "      <td>5.1%</td>\n",
       "      <td>9.4</td>\n",
       "    </tr>\n",
       "    <tr>\n",
       "      <td>3</td>\n",
       "      <td>2점</td>\n",
       "      <td>0%</td>\n",
       "      <td>9.4</td>\n",
       "    </tr>\n",
       "    <tr>\n",
       "      <td>4</td>\n",
       "      <td>1점</td>\n",
       "      <td>0%</td>\n",
       "      <td>9.4</td>\n",
       "    </tr>\n",
       "  </tbody>\n",
       "</table>\n",
       "</div>"
      ],
      "text/plain": [
       "   별점     점수   총점\n",
       "0  5점  74.4%  9.4\n",
       "1  4점  20.5%  9.4\n",
       "2  3점   5.1%  9.4\n",
       "3  2점     0%  9.4\n",
       "4  1점     0%  9.4"
      ]
     },
     "execution_count": 358,
     "metadata": {},
     "output_type": "execute_result"
    }
   ],
   "source": [
    "score(soup)"
   ]
  },
  {
   "cell_type": "code",
   "execution_count": null,
   "metadata": {},
   "outputs": [],
   "source": []
  }
 ],
 "metadata": {
  "kernelspec": {
   "display_name": "Python 3",
   "language": "python",
   "name": "python3"
  },
  "language_info": {
   "codemirror_mode": {
    "name": "ipython",
    "version": 3
   },
   "file_extension": ".py",
   "mimetype": "text/x-python",
   "name": "python",
   "nbconvert_exporter": "python",
   "pygments_lexer": "ipython3",
   "version": "3.7.4"
  }
 },
 "nbformat": 4,
 "nbformat_minor": 2
}
